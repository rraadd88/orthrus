{
 "cells": [
  {
   "cell_type": "code",
   "execution_count": 1,
   "id": "0a891ad4-bcf7-458e-8c4d-051a5b3b73c0",
   "metadata": {
    "scrolled": true,
    "tags": []
   },
   "outputs": [
    {
     "name": "stderr",
     "output_type": "stream",
     "text": [
      "Updating HTML index of packages in '.Library'\n",
      "\n",
      "Making 'packages.html' ...\n",
      " done\n",
      "\n",
      "Updating HTML index of packages in '.Library'\n",
      "\n",
      "Making 'packages.html' ...\n",
      " done\n",
      "\n",
      "Updating HTML index of packages in '.Library'\n",
      "\n",
      "Making 'packages.html' ...\n",
      " done\n",
      "\n",
      "Updating HTML index of packages in '.Library'\n",
      "\n",
      "Making 'packages.html' ...\n",
      " done\n",
      "\n",
      "Updating HTML index of packages in '.Library'\n",
      "\n",
      "Making 'packages.html' ...\n",
      " done\n",
      "\n",
      "Updating HTML index of packages in '.Library'\n",
      "\n",
      "Making 'packages.html' ...\n",
      " done\n",
      "\n",
      "'getOption(\"repos\")' replaces Bioconductor standard repositories, see\n",
      "'help(\"repositories\", package = \"BiocManager\")' for details.\n",
      "Replacement repositories:\n",
      "    CRAN: https://cran.r-project.org\n",
      "\n",
      "Bioconductor version 3.16 (BiocManager 1.30.21), R 4.2.3 (2023-03-15)\n",
      "\n",
      "Installing package(s) 'BiocVersion', 'limma'\n",
      "\n",
      "Updating HTML index of packages in '.Library'\n",
      "\n",
      "Making 'packages.html' ...\n",
      " done\n",
      "\n",
      "Loading required package: usethis\n",
      "\n",
      "Downloading GitHub repo HenryWard/orthrus@HEAD\n",
      "\n"
     ]
    },
    {
     "name": "stdout",
     "output_type": "stream",
     "text": [
      "tictoc (NA -> 1.2) [CRAN]\n"
     ]
    },
    {
     "name": "stderr",
     "output_type": "stream",
     "text": [
      "Skipping 1 packages not available: limma\n",
      "\n",
      "Installing 1 packages: tictoc\n",
      "\n",
      "Updating HTML index of packages in '.Library'\n",
      "\n",
      "Making 'packages.html' ...\n",
      " done\n",
      "\n"
     ]
    },
    {
     "name": "stdout",
     "output_type": "stream",
     "text": [
      "\u001b[36m──\u001b[39m \u001b[36mR CMD build\u001b[39m \u001b[36m────────────────────────────────────────────────────────────────────────────────────────────────────────────────────────────────────────────────────────────────────────────────────────────────────\u001b[39m\n",
      "\u001b[32m✔\u001b[39m  \u001b[90mchecking for file ‘/tmp/Rtmp2jRERt/remotes16f78408ee3/HenryWard-orthrus-595703e/DESCRIPTION’\u001b[39m\u001b[36m\u001b[39m\n",
      "\u001b[90m─\u001b[39m\u001b[90m  \u001b[39m\u001b[90mpreparing ‘orthrus’:\u001b[39m\u001b[36m\u001b[39m\n",
      "\u001b[32m✔\u001b[39m  \u001b[90mchecking DESCRIPTION meta-information\u001b[39m\u001b[36m\u001b[39m\n",
      "\u001b[90m─\u001b[39m\u001b[90m  \u001b[39m\u001b[90mchecking for LF line-endings in source and make files and shell scripts\u001b[39m\u001b[36m\u001b[39m\n",
      "\u001b[90m─\u001b[39m\u001b[90m  \u001b[39m\u001b[90mchecking for empty or unneeded directories\u001b[39m\u001b[36m\u001b[39m\n",
      "\u001b[90m─\u001b[39m\u001b[90m  \u001b[39m\u001b[90mbuilding ‘orthrus_0.4.4.0.tar.gz’\u001b[39m\u001b[36m\u001b[39m\n",
      "   \n",
      "\r"
     ]
    }
   ],
   "source": [
    "# # Installs CRAN packages\n",
    "# install.packages(\"ggplot2\")\n",
    "# install.packages(\"ggthemes\")\n",
    "# install.packages(\"pheatmap\")\n",
    "# install.packages(\"PRROC\")\n",
    "# install.packages(\"RColorBrewer\")\n",
    "\n",
    "# # Installs the limma package from Bioconductor\n",
    "# if (!requireNamespace(\"BiocManager\", quietly = TRUE))\n",
    "#     install.packages(\"BiocManager\")\n",
    "# BiocManager::install(\"limma\")\n",
    "\n",
    "# # Installs Orthrus from Github\n",
    "# library(devtools)\n",
    "# devtools::install_github(\"HenryWard/orthrus\")"
   ]
  },
  {
   "cell_type": "code",
   "execution_count": 1,
   "id": "dfd96cf7-1b23-41d2-8d68-3516f91d06f7",
   "metadata": {},
   "outputs": [],
   "source": [
    "library(orthrus)"
   ]
  },
  {
   "cell_type": "code",
   "execution_count": 2,
   "id": "b85dbe21-4586-4bf7-b4e0-fad0cab6b90d",
   "metadata": {},
   "outputs": [],
   "source": [
    "# Renames dataset\n",
    "df <- chymera_paralog\n",
    "\n",
    "# Makes output folders\n",
    "output_folder <- file.path(\"vignette_output\")\n",
    "plot_folder <- file.path(output_folder, \"scored\")\n",
    "qc_folder <- file.path(output_folder, \"qc\")\n",
    "lfc_folder <- file.path(qc_folder, \"lfc\")\n",
    "if (!dir.exists(output_folder)) { dir.create(output_folder, recursive = TRUE) }\n",
    "if (!dir.exists(plot_folder)) { dir.create(plot_folder) }\n",
    "if (!dir.exists(qc_folder)) { dir.create(qc_folder) }\n",
    "if (!dir.exists(lfc_folder)) { dir.create(lfc_folder) }"
   ]
  },
  {
   "cell_type": "code",
   "execution_count": 3,
   "id": "32ebb368-64e5-45e1-afea-17bbcddb9051",
   "metadata": {},
   "outputs": [],
   "source": [
    "screens <- add_screens_from_table(chymera_sample_table)"
   ]
  },
  {
   "cell_type": "code",
   "execution_count": 4,
   "id": "4e81accc-66b8-4dd0-bcfd-8b312161b54f",
   "metadata": {},
   "outputs": [],
   "source": [
    "plot_reads_qc(df, screens, qc_folder)"
   ]
  },
  {
   "cell_type": "code",
   "execution_count": 5,
   "id": "421a01ba-2a14-4d0b-b4e4-b13ea9477c23",
   "metadata": {},
   "outputs": [
    {
     "name": "stdout",
     "output_type": "stream",
     "text": [
      "Skipping LFC normalization to median per-screen non-essential gene LFC\n",
      "Excluded a total of 32666 guides for low t0 representation\n",
      "Excluded a total of 0 guides for high t0 representation\n"
     ]
    }
   ],
   "source": [
    "df <- normalize_screens(df, screens, filter_names = c(\"HAP1_T0\", \"RPE1_T0\"), min_reads = 30)"
   ]
  },
  {
   "cell_type": "code",
   "execution_count": 6,
   "id": "9652ca35-18d3-4e75-a6f7-fb81c17892ae",
   "metadata": {},
   "outputs": [
    {
     "name": "stdout",
     "output_type": "stream",
     "text": [
      "Pearson correlation between HAP1.T12A and HAP1.T12B: 0.841716377753381\n",
      "Pearson correlation between HAP1.T12A and HAP1.T12C: 0.845102198738882\n",
      "Pearson correlation between HAP1.T12B and HAP1.T12C: 0.859670147073667\n",
      "Pearson correlation between HAP1.T18A and HAP1.T18B: 0.761880029382501\n",
      "Pearson correlation between HAP1.T18A and HAP1.T18C: 0.771003645358863\n",
      "Pearson correlation between HAP1.T18B and HAP1.T18C: 0.82130358483913\n",
      "Pearson correlation between HAP1.Torin.T12A and HAP1.Torin.T12B: 0.757622829328327\n",
      "Pearson correlation between HAP1.Torin.T12A and HAP1.Torin.T12C: 0.761835596789247\n",
      "Pearson correlation between HAP1.Torin.T12B and HAP1.Torin.T12C: 0.764197298906468\n",
      "Pearson correlation between HAP1.Torin.T18A and HAP1.Torin.T18B: 0.662389189629447\n",
      "Pearson correlation between HAP1.Torin.T18A and HAP1.Torin.T18C: 0.66856991102596\n",
      "Pearson correlation between HAP1.Torin.T18B and HAP1.Torin.T18C: 0.675805777001116\n",
      "Pearson correlation between RPE1.T18A and RPE1.T18B: 0.761209978013863\n",
      "Pearson correlation between RPE1.T18A and RPE1.T18C: 0.855742016965927\n",
      "Pearson correlation between RPE1.T18B and RPE1.T18C: 0.855229216662736\n",
      "Pearson correlation between RPE1.T24A and RPE1.T24B: 0.725330117402479\n",
      "Pearson correlation between RPE1.T24A and RPE1.T24C: 0.825692404417999\n",
      "Pearson correlation between RPE1.T24B and RPE1.T24C: 0.834534551943212\n"
     ]
    }
   ],
   "source": [
    "plot_lfc_qc(df, screens, qc_folder, display_numbers = FALSE, plot_type = \"pdf\", negative_controls = c(\"NT\"))\n"
   ]
  },
  {
   "cell_type": "code",
   "execution_count": 7,
   "id": "d101e77f-af38-4184-9e7a-ac7514546a6b",
   "metadata": {},
   "outputs": [],
   "source": [
    "guides <- split_guides(df, screens, \"Cas9.Guide\", \"Cpf1.Guide\")\n",
    "dual <- guides[[\"dual\"]]\n",
    "single <- guides[[\"single\"]]\n",
    "paralogs <- guides[[\"combn\"]]"
   ]
  },
  {
   "cell_type": "code",
   "execution_count": 8,
   "id": "31de2f07-5630-4d5c-a9c5-03ee99c892dd",
   "metadata": {},
   "outputs": [
    {
     "name": "stderr",
     "output_type": "stream",
     "text": [
      "Warning message in single_gene1[[\"orient1_id1\"]] %in% combn_vals[[\"orient1_id1\"]] | :\n",
      "“longer object length is not a multiple of shorter object length”\n"
     ]
    },
    {
     "ename": "ERROR",
     "evalue": "Error in (function (..., row.names = NULL, check.rows = FALSE, check.names = TRUE, : arguments imply differing number of rows: 8, 0\n",
     "output_type": "error",
     "traceback": [
      "Error in (function (..., row.names = NULL, check.rows = FALSE, check.names = TRUE, : arguments imply differing number of rows: 8, 0\nTraceback:\n",
      "1. score_combn_batch(paralogs, single, screens, batch_table, output_folder, \n .     test = \"moderated-t\", loess = TRUE, filter_genes = c(\"NT\"), \n .     neg_type = \"Sensitizer\", pos_type = \"Suppressor\", fdr_threshold = 0.2, \n .     differential_threshold = 0.5, plot_type = \"pdf\")",
      "2. score_combn_vs_single(combn_guides, single_guides, screens, condition, \n .     test = test, min_guides = min_guides, loess = loess, max_resid = max_resid, \n .     filter_genes = NULL, ignore_orientation = ignore_orientation, \n .     collapse_single_targeting = collapse_single_targeting, subset_to_matching_guide_id = subset_to_matching_guide_id, \n .     fdr_method = fdr_method, return_residuals = TRUE)",
      "3. rowMeans(data.frame(combn_vals[orient1]))",
      "4. is.data.frame(x)",
      "5. data.frame(combn_vals[orient1])",
      "6. as.data.frame(x[[i]], optional = TRUE, stringsAsFactors = stringsAsFactors)",
      "7. as.data.frame.list(x[[i]], optional = TRUE, stringsAsFactors = stringsAsFactors)",
      "8. do.call(data.frame, c(x, alis))",
      "9. (function (..., row.names = NULL, check.rows = FALSE, check.names = TRUE, \n .     fix.empty.names = TRUE, stringsAsFactors = FALSE) \n . {\n .     data.row.names <- if (check.rows && is.null(row.names)) \n .         function(current, new, i) {\n .             if (is.character(current)) \n .                 new <- as.character(new)\n .             if (is.character(new)) \n .                 current <- as.character(current)\n .             if (anyDuplicated(new)) \n .                 return(current)\n .             if (is.null(current)) \n .                 return(new)\n .             if (all(current == new) || all(current == \"\")) \n .                 return(new)\n .             stop(gettextf(\"mismatch of row names in arguments of 'data.frame', item %d\", \n .                 i), domain = NA)\n .         }\n .     else function(current, new, i) {\n .         if (is.null(current)) {\n .             if (anyDuplicated(new)) {\n .                 warning(gettextf(\"some row.names duplicated: %s --> row.names NOT used\", \n .                   paste(which(duplicated(new)), collapse = \",\")), \n .                   domain = NA)\n .                 current\n .             }\n .             else new\n .         }\n .         else current\n .     }\n .     object <- as.list(substitute(list(...)))[-1L]\n .     mirn <- missing(row.names)\n .     mrn <- is.null(row.names)\n .     x <- list(...)\n .     n <- length(x)\n .     if (n < 1L) {\n .         if (!mrn) {\n .             if (is.object(row.names) || !is.integer(row.names)) \n .                 row.names <- as.character(row.names)\n .             if (anyNA(row.names)) \n .                 stop(\"row names contain missing values\")\n .             if (anyDuplicated(row.names)) \n .                 stop(gettextf(\"duplicate row.names: %s\", paste(unique(row.names[duplicated(row.names)]), \n .                   collapse = \", \")), domain = NA)\n .         }\n .         else row.names <- integer()\n .         return(structure(list(), names = character(), row.names = row.names, \n .             class = \"data.frame\"))\n .     }\n .     vnames <- names(x)\n .     if (length(vnames) != n) \n .         vnames <- character(n)\n .     no.vn <- !nzchar(vnames)\n .     vlist <- vnames <- as.list(vnames)\n .     nrows <- ncols <- integer(n)\n .     for (i in seq_len(n)) {\n .         xi <- if (is.character(x[[i]]) || is.list(x[[i]])) \n .             as.data.frame(x[[i]], optional = TRUE, stringsAsFactors = stringsAsFactors)\n .         else as.data.frame(x[[i]], optional = TRUE)\n .         nrows[i] <- .row_names_info(xi)\n .         ncols[i] <- length(xi)\n .         namesi <- names(xi)\n .         if (ncols[i] > 1L) {\n .             if (length(namesi) == 0L) \n .                 namesi <- seq_len(ncols[i])\n .             vnames[[i]] <- if (no.vn[i]) \n .                 namesi\n .             else paste(vnames[[i]], namesi, sep = \".\")\n .         }\n .         else if (length(namesi)) {\n .             vnames[[i]] <- namesi\n .         }\n .         else if (fix.empty.names && no.vn[[i]]) {\n .             tmpname <- deparse(object[[i]], nlines = 1L)[1L]\n .             if (startsWith(tmpname, \"I(\") && endsWith(tmpname, \n .                 \")\")) {\n .                 ntmpn <- nchar(tmpname, \"c\")\n .                 tmpname <- substr(tmpname, 3L, ntmpn - 1L)\n .             }\n .             vnames[[i]] <- tmpname\n .         }\n .         if (mirn && nrows[i] > 0L) {\n .             rowsi <- attr(xi, \"row.names\")\n .             if (any(nzchar(rowsi))) \n .                 row.names <- data.row.names(row.names, rowsi, \n .                   i)\n .         }\n .         nrows[i] <- abs(nrows[i])\n .         vlist[[i]] <- xi\n .     }\n .     nr <- max(nrows)\n .     for (i in seq_len(n)[nrows < nr]) {\n .         xi <- vlist[[i]]\n .         if (nrows[i] > 0L && (nr%%nrows[i] == 0L)) {\n .             xi <- unclass(xi)\n .             fixed <- TRUE\n .             for (j in seq_along(xi)) {\n .                 xi1 <- xi[[j]]\n .                 if (is.vector(xi1) || is.factor(xi1)) \n .                   xi[[j]] <- rep(xi1, length.out = nr)\n .                 else if (is.character(xi1) && inherits(xi1, \"AsIs\")) \n .                   xi[[j]] <- structure(rep(xi1, length.out = nr), \n .                     class = class(xi1))\n .                 else if (inherits(xi1, \"Date\") || inherits(xi1, \n .                   \"POSIXct\")) \n .                   xi[[j]] <- rep(xi1, length.out = nr)\n .                 else {\n .                   fixed <- FALSE\n .                   break\n .                 }\n .             }\n .             if (fixed) {\n .                 vlist[[i]] <- xi\n .                 next\n .             }\n .         }\n .         stop(gettextf(\"arguments imply differing number of rows: %s\", \n .             paste(unique(nrows), collapse = \", \")), domain = NA)\n .     }\n .     value <- unlist(vlist, recursive = FALSE, use.names = FALSE)\n .     vnames <- as.character(unlist(vnames[ncols > 0L]))\n .     if (fix.empty.names && any(noname <- !nzchar(vnames))) \n .         vnames[noname] <- paste0(\"Var.\", seq_along(vnames))[noname]\n .     if (check.names) {\n .         if (fix.empty.names) \n .             vnames <- make.names(vnames, unique = TRUE)\n .         else {\n .             nz <- nzchar(vnames)\n .             vnames[nz] <- make.names(vnames[nz], unique = TRUE)\n .         }\n .     }\n .     names(value) <- vnames\n .     if (!mrn) {\n .         if (length(row.names) == 1L && nr != 1L) {\n .             if (is.character(row.names)) \n .                 row.names <- match(row.names, vnames, 0L)\n .             if (length(row.names) != 1L || row.names < 1L || \n .                 row.names > length(vnames)) \n .                 stop(\"'row.names' should specify one of the variables\")\n .             i <- row.names\n .             row.names <- value[[i]]\n .             value <- value[-i]\n .         }\n .         else if (!is.null(row.names) && length(row.names) != \n .             nr) \n .             stop(\"row names supplied are of the wrong length\")\n .     }\n .     else if (!is.null(row.names) && length(row.names) != nr) {\n .         warning(\"row names were found from a short variable and have been discarded\")\n .         row.names <- NULL\n .     }\n .     class(value) <- \"data.frame\"\n .     if (is.null(row.names)) \n .         attr(value, \"row.names\") <- .set_row_names(nr)\n .     else {\n .         if (is.object(row.names) || !is.integer(row.names)) \n .             row.names <- as.character(row.names)\n .         if (anyNA(row.names)) \n .             stop(\"row names contain missing values\")\n .         if (anyDuplicated(row.names)) \n .             stop(gettextf(\"duplicate row.names: %s\", paste(unique(row.names[duplicated(row.names)]), \n .                 collapse = \", \")), domain = NA)\n .         row.names(value) <- row.names\n .     }\n .     value\n . })(orient1_HAP1.T12A = c(-1.75734019158649, -0.200280932727263, \n . 0.292231461562113, -0.197949229522162, -0.00844413623717211, \n . -0.250775920631086, -1.68827889639165, -1.99753785520773), `NA` = NULL, \n .     `NA` = NULL, check.names = FALSE, fix.empty.names = TRUE, \n .     stringsAsFactors = FALSE)",
      "10. stop(gettextf(\"arguments imply differing number of rows: %s\", \n  .     paste(unique(nrows), collapse = \", \")), domain = NA)"
     ]
    }
   ],
   "source": [
    "batch_table <- chymera_batch_table\n",
    "score_conditions_batch(dual, screens, batch_table, output_folder, \n",
    "                       test = \"moderated-t\", loess = TRUE, filter_genes = c(\"NT\"),\n",
    "                       neg_type = \"Sensitizer\", pos_type = \"Suppressor\",\n",
    "                       fdr_threshold = 0.1, differential_threshold = 0.5,\n",
    "                       plot_type = \"pdf\")\n",
    "score_combn_batch(paralogs, single, screens, batch_table, output_folder, \n",
    "                  test = \"moderated-t\", loess = TRUE, filter_genes = c(\"NT\"),\n",
    "                  neg_type = \"Sensitizer\", pos_type = \"Suppressor\",\n",
    "                  fdr_threshold = 0.2, differential_threshold = 0.5,\n",
    "                  plot_type = \"pdf\")"
   ]
  },
  {
   "cell_type": "code",
   "execution_count": null,
   "id": "bba42b23-f1eb-46b5-a723-16e90df8be21",
   "metadata": {},
   "outputs": [],
   "source": []
  }
 ],
 "metadata": {
  "kernelspec": {
   "display_name": "orthrus_r",
   "language": "R",
   "name": "orthrus_r"
  },
  "language_info": {
   "codemirror_mode": "r",
   "file_extension": ".r",
   "mimetype": "text/x-r-source",
   "name": "R",
   "pygments_lexer": "r",
   "version": "4.2.3"
  }
 },
 "nbformat": 4,
 "nbformat_minor": 5
}
